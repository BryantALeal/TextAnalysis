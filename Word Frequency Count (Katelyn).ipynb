{
 "cells": [
  {
   "cell_type": "code",
   "execution_count": 40,
   "metadata": {
    "scrolled": true
   },
   "outputs": [
    {
     "name": "stdout",
     "output_type": "stream",
     "text": [
      "Populating the interactive namespace from numpy and matplotlib\n"
     ]
    }
   ],
   "source": [
    "# import libraries\n",
    "import numpy as np\n",
    "import pandas as pd\n",
    "import re\n",
    "import string\n",
    "from collections import defaultdict\n",
    "import nltk\n",
    "from nltk.corpus import stopwords\n",
    "import io\n",
    "import csv\n",
    "from pandas import DataFrame\n",
    "%pylab inline"
   ]
  },
  {
   "cell_type": "code",
   "execution_count": 41,
   "metadata": {
    "scrolled": true
   },
   "outputs": [
    {
     "data": {
      "text/html": [
       "<div>\n",
       "<style scoped>\n",
       "    .dataframe tbody tr th:only-of-type {\n",
       "        vertical-align: middle;\n",
       "    }\n",
       "\n",
       "    .dataframe tbody tr th {\n",
       "        vertical-align: top;\n",
       "    }\n",
       "\n",
       "    .dataframe thead th {\n",
       "        text-align: right;\n",
       "    }\n",
       "</style>\n",
       "<table border=\"1\" class=\"dataframe\">\n",
       "  <thead>\n",
       "    <tr style=\"text-align: right;\">\n",
       "      <th></th>\n",
       "      <th>date</th>\n",
       "      <th>author</th>\n",
       "      <th>text</th>\n",
       "    </tr>\n",
       "  </thead>\n",
       "  <tbody>\n",
       "    <tr>\n",
       "      <th>0</th>\n",
       "      <td>2004-04-02T13:43:55+00:00</td>\n",
       "      <td>fintail</td>\n",
       "      <td>This isn't totally new, but I saw my first Sci...</td>\n",
       "    </tr>\n",
       "    <tr>\n",
       "      <th>1</th>\n",
       "      <td>2004-04-02T13:52:23+00:00</td>\n",
       "      <td>andre1969</td>\n",
       "      <td>I saw both a Colorado and a Malibu in DC. I kn...</td>\n",
       "    </tr>\n",
       "    <tr>\n",
       "      <th>2</th>\n",
       "      <td>2004-04-02T15:25:54+00:00</td>\n",
       "      <td>lemko</td>\n",
       "      <td>...but I saw a Mazda 3 last week.</td>\n",
       "    </tr>\n",
       "    <tr>\n",
       "      <th>3</th>\n",
       "      <td>2004-04-02T15:28:12+00:00</td>\n",
       "      <td>andre1969</td>\n",
       "      <td>sometimes though, at a quick glance it takes m...</td>\n",
       "    </tr>\n",
       "    <tr>\n",
       "      <th>4</th>\n",
       "      <td>2004-04-02T16:07:00+00:00</td>\n",
       "      <td>PF_Flyer</td>\n",
       "      <td>Yea, we can have some retroactive sightings to...</td>\n",
       "    </tr>\n",
       "  </tbody>\n",
       "</table>\n",
       "</div>"
      ],
      "text/plain": [
       "                        date     author  \\\n",
       "0  2004-04-02T13:43:55+00:00    fintail   \n",
       "1  2004-04-02T13:52:23+00:00  andre1969   \n",
       "2  2004-04-02T15:25:54+00:00      lemko   \n",
       "3  2004-04-02T15:28:12+00:00  andre1969   \n",
       "4  2004-04-02T16:07:00+00:00   PF_Flyer   \n",
       "\n",
       "                                                text  \n",
       "0  This isn't totally new, but I saw my first Sci...  \n",
       "1  I saw both a Colorado and a Malibu in DC. I kn...  \n",
       "2                  ...but I saw a Mazda 3 last week.  \n",
       "3  sometimes though, at a quick glance it takes m...  \n",
       "4  Yea, we can have some retroactive sightings to...  "
      ]
     },
     "execution_count": 41,
     "metadata": {},
     "output_type": "execute_result"
    }
   ],
   "source": [
    "# read in data and rename columns\n",
    "df = pd.read_csv('scrapedData.csv')\n",
    "df.rename(columns = {'Date': 'date'}, inplace = True)\n",
    "df.drop(columns=['PageCommentNumber'], inplace = True)\n",
    "df.head()"
   ]
  },
  {
   "cell_type": "code",
   "execution_count": 42,
   "metadata": {
    "scrolled": true
   },
   "outputs": [],
   "source": [
    "# convert comments column to strings\n",
    "df['text'] = df['text'].apply(str)\n",
    "# create a list of the comments\n",
    "comments = df['text'].tolist()"
   ]
  },
  {
   "cell_type": "code",
   "execution_count": 43,
   "metadata": {
    "scrolled": true
   },
   "outputs": [],
   "source": [
    "def get_word_frequency(wordlist):\n",
    " \n",
    "    # create list of words for the comment\n",
    "    tokens = nltk.tokenize.word_tokenize(wordlist)\n",
    "    \n",
    "    # remove duplicate words from comment\n",
    "    tokens = list(dict.fromkeys(tokens))\n",
    " \n",
    "    # Get list of English stop words\n",
    "    take_out = stopwords.words('english')\n",
    "    take_out = [word.upper() for word in take_out]\n",
    " \n",
    "    # Convert each item in tokens to uppercase\n",
    "    tokens = [word.upper() for word in tokens]\n",
    " \n",
    "    # Filter out stop words from tokens list\n",
    "    tokens = [word for word in tokens if word not in take_out]\n",
    "    tokens = [word for word in tokens if word not in string.punctuation]\n",
    "    tokens = [word for word in tokens if word[0] not in string.punctuation]\n",
    " \n",
    "    # Get word frequency distribution\n",
    "    word_frequencies = nltk.FreqDist(tokens)\n",
    " \n",
    "    # Sort word frequency distribution by number of times each word occurs\n",
    "    sorted_counts = sorted(word_frequencies.items() , key = lambda x: x[1] ,\n",
    "                           reverse = True)\n",
    " \n",
    "    return sorted_counts"
   ]
  },
  {
   "cell_type": "code",
   "execution_count": 44,
   "metadata": {
    "scrolled": true
   },
   "outputs": [
    {
     "data": {
      "text/html": [
       "<div>\n",
       "<style scoped>\n",
       "    .dataframe tbody tr th:only-of-type {\n",
       "        vertical-align: middle;\n",
       "    }\n",
       "\n",
       "    .dataframe tbody tr th {\n",
       "        vertical-align: top;\n",
       "    }\n",
       "\n",
       "    .dataframe thead th {\n",
       "        text-align: right;\n",
       "    }\n",
       "</style>\n",
       "<table border=\"1\" class=\"dataframe\">\n",
       "  <thead>\n",
       "    <tr style=\"text-align: right;\">\n",
       "      <th></th>\n",
       "      <th>word</th>\n",
       "      <th>count</th>\n",
       "    </tr>\n",
       "  </thead>\n",
       "  <tbody>\n",
       "    <tr>\n",
       "      <th>0</th>\n",
       "      <td>MODEL</td>\n",
       "      <td>4</td>\n",
       "    </tr>\n",
       "    <tr>\n",
       "      <th>1</th>\n",
       "      <td>THOUGHT</td>\n",
       "      <td>4</td>\n",
       "    </tr>\n",
       "    <tr>\n",
       "      <th>2</th>\n",
       "      <td>LOL</td>\n",
       "      <td>4</td>\n",
       "    </tr>\n",
       "    <tr>\n",
       "      <th>3</th>\n",
       "      <td>COULD</td>\n",
       "      <td>4</td>\n",
       "    </tr>\n",
       "    <tr>\n",
       "      <th>4</th>\n",
       "      <td>STS</td>\n",
       "      <td>4</td>\n",
       "    </tr>\n",
       "    <tr>\n",
       "      <th>5</th>\n",
       "      <td>DUBS</td>\n",
       "      <td>4</td>\n",
       "    </tr>\n",
       "    <tr>\n",
       "      <th>6</th>\n",
       "      <td>SMARTS</td>\n",
       "      <td>4</td>\n",
       "    </tr>\n",
       "    <tr>\n",
       "      <th>7</th>\n",
       "      <td>BLUETEC</td>\n",
       "      <td>4</td>\n",
       "    </tr>\n",
       "    <tr>\n",
       "      <th>8</th>\n",
       "      <td>E-TRON</td>\n",
       "      <td>4</td>\n",
       "    </tr>\n",
       "    <tr>\n",
       "      <th>9</th>\n",
       "      <td>NEW</td>\n",
       "      <td>3</td>\n",
       "    </tr>\n",
       "  </tbody>\n",
       "</table>\n",
       "</div>"
      ],
      "text/plain": [
       "      word  count\n",
       "0    MODEL      4\n",
       "1  THOUGHT      4\n",
       "2      LOL      4\n",
       "3    COULD      4\n",
       "4      STS      4\n",
       "5     DUBS      4\n",
       "6   SMARTS      4\n",
       "7  BLUETEC      4\n",
       "8   E-TRON      4\n",
       "9      NEW      3"
      ]
     },
     "execution_count": 44,
     "metadata": {},
     "output_type": "execute_result"
    }
   ],
   "source": [
    "# get word frequency across all articles\n",
    "overall_text = ' '.join(comments)\n",
    "top_words = get_word_frequency(overall_text)\n",
    "overall_freq = DataFrame(top_words,columns=['word','count'])\n",
    "overall_freq.head(10)"
   ]
  },
  {
   "cell_type": "code",
   "execution_count": 45,
   "metadata": {
    "scrolled": true
   },
   "outputs": [],
   "source": [
    "# export to csv\n",
    "overall_freq.to_csv(r'C:\\Users\\katel\\OneDrive\\Desktop\\Text Analysis\\OverallWordFreq.csv', index = False)"
   ]
  }
 ],
 "metadata": {
  "kernelspec": {
   "display_name": "Python 3",
   "language": "python",
   "name": "python3"
  },
  "language_info": {
   "codemirror_mode": {
    "name": "ipython",
    "version": 3
   },
   "file_extension": ".py",
   "mimetype": "text/x-python",
   "name": "python",
   "nbconvert_exporter": "python",
   "pygments_lexer": "ipython3",
   "version": "3.7.6"
  }
 },
 "nbformat": 4,
 "nbformat_minor": 4
}
